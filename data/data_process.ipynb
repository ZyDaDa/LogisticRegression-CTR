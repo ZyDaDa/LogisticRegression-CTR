{
 "cells": [
  {
   "cell_type": "code",
   "execution_count": 52,
   "metadata": {},
   "outputs": [],
   "source": [
    "import os \n",
    "import pandas as pd\n",
    "import pickle\n",
    "import numpy as np\n",
    "from tqdm import tqdm\n",
    "from tqdm.contrib import tzip\n",
    "from random import randint"
   ]
  },
  {
   "cell_type": "markdown",
   "metadata": {},
   "source": [
    "https://github.com/ZyDaDa/LogisticRegression-CTR\n"
   ]
  },
  {
   "attachments": {},
   "cell_type": "markdown",
   "metadata": {},
   "source": [
    "## 读取数据"
   ]
  },
  {
   "cell_type": "code",
   "execution_count": 53,
   "metadata": {},
   "outputs": [],
   "source": [
    "data_folder = 'data_format1'\n",
    "\n",
    "user_log_df = pd.read_csv(os.path.join(data_folder, 'user_log_format1.csv'))\n",
    "user_info_df = pd.read_csv(os.path.join(data_folder, 'user_info_format1.csv'))"
   ]
  },
  {
   "cell_type": "code",
   "execution_count": 54,
   "metadata": {},
   "outputs": [
    {
     "data": {
      "text/html": [
       "<div>\n",
       "<style scoped>\n",
       "    .dataframe tbody tr th:only-of-type {\n",
       "        vertical-align: middle;\n",
       "    }\n",
       "\n",
       "    .dataframe tbody tr th {\n",
       "        vertical-align: top;\n",
       "    }\n",
       "\n",
       "    .dataframe thead th {\n",
       "        text-align: right;\n",
       "    }\n",
       "</style>\n",
       "<table border=\"1\" class=\"dataframe\">\n",
       "  <thead>\n",
       "    <tr style=\"text-align: right;\">\n",
       "      <th></th>\n",
       "      <th>user_id</th>\n",
       "      <th>item_id</th>\n",
       "      <th>cat_id</th>\n",
       "      <th>seller_id</th>\n",
       "      <th>brand_id</th>\n",
       "      <th>time_stamp</th>\n",
       "      <th>action_type</th>\n",
       "    </tr>\n",
       "  </thead>\n",
       "  <tbody>\n",
       "    <tr>\n",
       "      <th>0</th>\n",
       "      <td>328862</td>\n",
       "      <td>323294</td>\n",
       "      <td>833</td>\n",
       "      <td>2882</td>\n",
       "      <td>2661.0</td>\n",
       "      <td>829</td>\n",
       "      <td>0</td>\n",
       "    </tr>\n",
       "    <tr>\n",
       "      <th>1</th>\n",
       "      <td>328862</td>\n",
       "      <td>844400</td>\n",
       "      <td>1271</td>\n",
       "      <td>2882</td>\n",
       "      <td>2661.0</td>\n",
       "      <td>829</td>\n",
       "      <td>0</td>\n",
       "    </tr>\n",
       "    <tr>\n",
       "      <th>2</th>\n",
       "      <td>328862</td>\n",
       "      <td>575153</td>\n",
       "      <td>1271</td>\n",
       "      <td>2882</td>\n",
       "      <td>2661.0</td>\n",
       "      <td>829</td>\n",
       "      <td>0</td>\n",
       "    </tr>\n",
       "    <tr>\n",
       "      <th>3</th>\n",
       "      <td>328862</td>\n",
       "      <td>996875</td>\n",
       "      <td>1271</td>\n",
       "      <td>2882</td>\n",
       "      <td>2661.0</td>\n",
       "      <td>829</td>\n",
       "      <td>0</td>\n",
       "    </tr>\n",
       "    <tr>\n",
       "      <th>4</th>\n",
       "      <td>328862</td>\n",
       "      <td>1086186</td>\n",
       "      <td>1271</td>\n",
       "      <td>1253</td>\n",
       "      <td>1049.0</td>\n",
       "      <td>829</td>\n",
       "      <td>0</td>\n",
       "    </tr>\n",
       "  </tbody>\n",
       "</table>\n",
       "</div>"
      ],
      "text/plain": [
       "   user_id  item_id  cat_id  seller_id  brand_id  time_stamp  action_type\n",
       "0   328862   323294     833       2882    2661.0         829            0\n",
       "1   328862   844400    1271       2882    2661.0         829            0\n",
       "2   328862   575153    1271       2882    2661.0         829            0\n",
       "3   328862   996875    1271       2882    2661.0         829            0\n",
       "4   328862  1086186    1271       1253    1049.0         829            0"
      ]
     },
     "execution_count": 54,
     "metadata": {},
     "output_type": "execute_result"
    }
   ],
   "source": [
    "# 用户交互的历史记录-作为全部数据集\n",
    "user_log_df.head()"
   ]
  },
  {
   "cell_type": "code",
   "execution_count": 55,
   "metadata": {},
   "outputs": [
    {
     "data": {
      "text/html": [
       "<div>\n",
       "<style scoped>\n",
       "    .dataframe tbody tr th:only-of-type {\n",
       "        vertical-align: middle;\n",
       "    }\n",
       "\n",
       "    .dataframe tbody tr th {\n",
       "        vertical-align: top;\n",
       "    }\n",
       "\n",
       "    .dataframe thead th {\n",
       "        text-align: right;\n",
       "    }\n",
       "</style>\n",
       "<table border=\"1\" class=\"dataframe\">\n",
       "  <thead>\n",
       "    <tr style=\"text-align: right;\">\n",
       "      <th></th>\n",
       "      <th>user_id</th>\n",
       "      <th>age_range</th>\n",
       "      <th>gender</th>\n",
       "    </tr>\n",
       "  </thead>\n",
       "  <tbody>\n",
       "    <tr>\n",
       "      <th>0</th>\n",
       "      <td>376517</td>\n",
       "      <td>6.0</td>\n",
       "      <td>1.0</td>\n",
       "    </tr>\n",
       "    <tr>\n",
       "      <th>1</th>\n",
       "      <td>234512</td>\n",
       "      <td>5.0</td>\n",
       "      <td>0.0</td>\n",
       "    </tr>\n",
       "    <tr>\n",
       "      <th>2</th>\n",
       "      <td>344532</td>\n",
       "      <td>5.0</td>\n",
       "      <td>0.0</td>\n",
       "    </tr>\n",
       "    <tr>\n",
       "      <th>3</th>\n",
       "      <td>186135</td>\n",
       "      <td>5.0</td>\n",
       "      <td>0.0</td>\n",
       "    </tr>\n",
       "    <tr>\n",
       "      <th>4</th>\n",
       "      <td>30230</td>\n",
       "      <td>5.0</td>\n",
       "      <td>0.0</td>\n",
       "    </tr>\n",
       "  </tbody>\n",
       "</table>\n",
       "</div>"
      ],
      "text/plain": [
       "   user_id  age_range  gender\n",
       "0   376517        6.0     1.0\n",
       "1   234512        5.0     0.0\n",
       "2   344532        5.0     0.0\n",
       "3   186135        5.0     0.0\n",
       "4    30230        5.0     0.0"
      ]
     },
     "execution_count": 55,
     "metadata": {},
     "output_type": "execute_result"
    }
   ],
   "source": [
    "# 作为用户特征\n",
    "user_info_df.head()"
   ]
  },
  {
   "cell_type": "code",
   "execution_count": 56,
   "metadata": {},
   "outputs": [],
   "source": [
    "# 使用一部分数据集\n",
    "use_num = len(user_log_df) // 50\n",
    "user_log_df = user_log_df.iloc[:use_num]"
   ]
  },
  {
   "attachments": {},
   "cell_type": "markdown",
   "metadata": {},
   "source": [
    "## 数据处理\n",
    "1. 低频用户/物品过滤：过滤掉交互次数小于5的用户/物品\n",
    "2. 特征处理：Onehot、Embedding、Normalization...\n",
    "3. 数据集划分"
   ]
  },
  {
   "cell_type": "code",
   "execution_count": 57,
   "metadata": {},
   "outputs": [],
   "source": [
    "# 用户过滤\n",
    "filted_cnt = 5\n",
    "\n",
    "# 过滤item\n",
    "counts = user_log_df['item_id'].value_counts()\n",
    "user_log_df = user_log_df[user_log_df['item_id'].isin(counts[counts >= filted_cnt].index)]\n",
    "\n",
    "# 过滤user\n",
    "counts = user_log_df['user_id'].value_counts()\n",
    "user_log_df = user_log_df[user_log_df['user_id'].isin(counts[counts >= filted_cnt].index)]\n",
    "\n",
    "user_info_df = user_info_df[user_info_df['user_id'].isin(user_log_df['user_id'].unique())]"
   ]
  },
  {
   "cell_type": "code",
   "execution_count": 58,
   "metadata": {},
   "outputs": [
    {
     "data": {
      "text/plain": [
       "(7146, 10)"
      ]
     },
     "execution_count": 58,
     "metadata": {},
     "output_type": "execute_result"
    }
   ],
   "source": [
    "# 特征处理 \n",
    "from sklearn.preprocessing import LabelEncoder, OneHotEncoder\n",
    "\n",
    "# item feature\n",
    "feature_num = {}\n",
    "for col in ['item_id','cat_id','seller_id','brand_id']:\n",
    "    enc = LabelEncoder()\n",
    "\n",
    "    user_log_df[col] = enc.fit_transform(user_log_df[col]) + 1 # 空出0作为填充 \n",
    "    feature_num[col] = user_log_df[col].max()+1\n",
    "\n",
    "# user feature\n",
    "enc = LabelEncoder()\n",
    "user_info_df['user_id'] = enc.fit_transform(user_info_df['user_id'])\n",
    "user_log_df['user_id'] = enc.transform(user_log_df['user_id'])\n",
    "feature_num['user_id'] = user_info_df['user_id'].max()+1\n",
    "\n",
    "enc = OneHotEncoder()\n",
    "user_age = enc.fit_transform(user_info_df[['age_range']]).todense().A\n",
    "user_gender = user_info_df['gender'].fillna(0).values\n",
    "all_user_feature = np.concatenate([user_age, user_gender.reshape(-1,1)],-1)\n",
    "all_user_feature.shape"
   ]
  },
  {
   "cell_type": "code",
   "execution_count": 59,
   "metadata": {},
   "outputs": [
    {
     "name": "stderr",
     "output_type": "stream",
     "text": [
      "100%|███████████████████████████████| 774625/774625 [00:02<00:00, 331849.88it/s]\n",
      "100%|██████████████████████████████████| 7146/7146 [00:00<00:00, 1187076.57it/s]\n"
     ]
    }
   ],
   "source": [
    "item_feature = {}\n",
    "for item_id, cat_id, seller_id, barnd_id in tqdm(user_log_df[['item_id','cat_id','seller_id','brand_id']].to_numpy(),ncols=80):\n",
    "    item_feature[item_id] = {'cat_id': cat_id,\n",
    "                             'seller_id': seller_id,\n",
    "                             'item_id': item_id,\n",
    "                             'brand_id': barnd_id}\n",
    "\n",
    "user_feature = {}\n",
    "for uid, ufeat in tzip(user_info_df['user_id'].values, all_user_feature, ncols=80):\n",
    "    user_feature[uid] = ufeat"
   ]
  },
  {
   "cell_type": "code",
   "execution_count": 60,
   "metadata": {},
   "outputs": [
    {
     "name": "stderr",
     "output_type": "stream",
     "text": [
      "100%|██████████████████████████████████████| 7146/7146 [00:10<00:00, 673.74it/s]\n"
     ]
    }
   ],
   "source": [
    "# 数据集划分\n",
    "# 将交互的最后两个item作为测试数据\n",
    "train_set = []\n",
    "\n",
    "test_set = []\n",
    "\n",
    "test_num = 2 # 每个用户用来测试的数量\n",
    "neg_sample_rate = 1 # 采样负样本的数量\n",
    "\n",
    "for u, u_df in tqdm(user_log_df.sort_values(by='time_stamp').groupby('user_id'),ncols=80):\n",
    "    user_log = u_df[['user_id','item_id']].to_numpy()\n",
    "    pos_label = np.ones(shape=(len(user_log),1))\n",
    "    user_log = np.concatenate([user_log,pos_label],-1) # user_id, item_id, label(1)\n",
    "    \n",
    "    pos_items = user_log[:,1]\n",
    "    \n",
    "    # 负采样\n",
    "    neg_num = int((len(user_log)-test_num)*neg_sample_rate) + test_num\n",
    "    neg_sample = np.zeros(shape=(neg_num,2))\n",
    "    neg_sample[:,0] = u # 固定用户\n",
    "    \n",
    "    # 随机负采样\n",
    "    for i in range(neg_num):\n",
    "        neg = randint(1, feature_num['item_id']-1)\n",
    "        while neg in pos_items: # 保证负样本不在正样本中出现\n",
    "            neg = randint(1, feature_num['item_id']-1)\n",
    "        neg_sample[i,1] = neg\n",
    "        \n",
    "    neg_label = np.zeros(shape=(len(neg_sample),1))\n",
    "    neg_sample = np.concatenate([neg_sample,neg_label],-1) # user_id, item_id, label(0)\n",
    "    \n",
    "    train_set.append(user_log[:-test_num])\n",
    "    test_set.append(user_log[-test_num:])\n",
    "    \n",
    "    train_set.append(neg_sample[:-test_num])\n",
    "    test_set.append(neg_sample[-test_num:])"
   ]
  },
  {
   "cell_type": "code",
   "execution_count": 61,
   "metadata": {},
   "outputs": [],
   "source": [
    "train_set = np.concatenate(train_set, axis=0)\n",
    "test_set = np.concatenate(test_set, axis=0)"
   ]
  },
  {
   "cell_type": "code",
   "execution_count": 62,
   "metadata": {},
   "outputs": [
    {
     "data": {
      "text/plain": [
       "(1520666, 28584)"
      ]
     },
     "execution_count": 62,
     "metadata": {},
     "output_type": "execute_result"
    }
   ],
   "source": [
    "len(train_set), len(test_set)"
   ]
  },
  {
   "cell_type": "code",
   "execution_count": 63,
   "metadata": {},
   "outputs": [],
   "source": [
    "# 保存全部数据\n",
    "\n",
    "pickle.dump((train_set, test_set, feature_num, item_feature, user_feature), open('all_data.pkl','wb'))"
   ]
  },
  {
   "cell_type": "code",
   "execution_count": null,
   "metadata": {},
   "outputs": [],
   "source": []
  }
 ],
 "metadata": {
  "kernelspec": {
   "display_name": "gen",
   "language": "python",
   "name": "python3"
  },
  "language_info": {
   "codemirror_mode": {
    "name": "ipython",
    "version": 3
   },
   "file_extension": ".py",
   "mimetype": "text/x-python",
   "name": "python",
   "nbconvert_exporter": "python",
   "pygments_lexer": "ipython3",
   "version": "3.8.15"
  },
  "orig_nbformat": 4
 },
 "nbformat": 4,
 "nbformat_minor": 2
}
